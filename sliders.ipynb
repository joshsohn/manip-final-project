{
 "cells": [
  {
   "cell_type": "code",
   "execution_count": 1,
   "metadata": {},
   "outputs": [],
   "source": [
    "import numpy as np\n",
    "from matplotlib import pyplot as plt\n",
    "from IPython.display import clear_output\n",
    "from pyvirtualdisplay import Display\n",
    "\n",
    "virtual_display = Display(visible=0, size=(1400, 900))\n",
    "virtual_display.start()\n",
    "\n",
    "from pydrake.all import (\n",
    "    Concatenate,\n",
    "    ConstantVectorSource,\n",
    "    DiagramBuilder,\n",
    "    InverseKinematics,\n",
    "    MeshcatVisualizer,\n",
    "    MeshcatVisualizerParams,\n",
    "    MultibodyPlant,\n",
    "    Parser,\n",
    "    PiecewisePolynomial,\n",
    "    PiecewiseQuaternionSlerp,\n",
    "    PointCloud,\n",
    "    RigidTransform,\n",
    "    LogVectorOutput,\n",
    "    RollPitchYaw,\n",
    "    RotationMatrix,\n",
    "    Simulator,\n",
    "    Solve,\n",
    "    StartMeshcat,\n",
    "    TrajectorySource,\n",
    "    CollisionFilterDeclaration,\n",
    "    GeometrySet,\n",
    "    CollisionFilterManager\n",
    ")\n",
    "from pydrake.multibody import inverse_kinematics\n",
    "from pydrake.multibody.plant import AddMultibodyPlantSceneGraph\n",
    "from pydrake.trajectories import PiecewisePolynomial\n",
    "from scipy.spatial import KDTree\n",
    "\n",
    "from manipulation import FindResource\n",
    "from manipulation.meshcat_utils import AddMeshcatTriad, MeshcatPoseSliders\n",
    "from manipulation.scenarios import AddIiwa, AddWsg, AddMultibodyTriad, MakeManipulationStation, AddRgbdSensors\n",
    "from manipulation.station import AddPointClouds, load_scenario, MakeHardwareStation\n",
    "from manipulation.utils import running_as_notebook, ConfigureParser"
   ]
  },
  {
   "cell_type": "code",
   "execution_count": 2,
   "metadata": {},
   "outputs": [
    {
     "name": "stderr",
     "output_type": "stream",
     "text": [
      "INFO:drake:Meshcat listening for connections at http://localhost:7008\n"
     ]
    }
   ],
   "source": [
    "meshcat = StartMeshcat()"
   ]
  },
  {
   "cell_type": "code",
   "execution_count": 5,
   "metadata": {},
   "outputs": [
    {
     "name": "stdout",
     "output_type": "stream",
     "text": [
      "IK failure\n"
     ]
    }
   ],
   "source": [
    "def run_simulation():\n",
    "    builder = DiagramBuilder()\n",
    "    time_step = 0.001\n",
    "    plant, scene_graph = AddMultibodyPlantSceneGraph(builder, time_step)\n",
    "    # Parser(plant).AddModels(\"model.sdf\")\n",
    "    iiwa = AddIiwa(plant, \"with_box_collision\")\n",
    "    wsg = AddWsg(plant, iiwa, welded=True)\n",
    "    plant.Finalize()\n",
    "\n",
    "    visualizer = MeshcatVisualizer.AddToBuilder(builder, scene_graph, meshcat)\n",
    "    # logger = LogVectorOutput(plant.get_state_output_port(), builder)\n",
    "\n",
    "    diagram = builder.Build()\n",
    "    simulator = Simulator(diagram)\n",
    "\n",
    "    # meshcat.StartRecording()\n",
    "\n",
    "    context = simulator.get_mutable_context()\n",
    "    plant_context = plant.GetMyMutableContextFromRoot(context)\n",
    "    # plant.SetPositions(plant_context, [1])\n",
    "    q0 = plant.GetPositions(plant_context)\n",
    "    gripper_frame = plant.GetFrameByName(\"body\", wsg)\n",
    "\n",
    "    def my_callback(context, pose):\n",
    "        ik = InverseKinematics(plant, plant_context)\n",
    "        ik.AddPositionConstraint(\n",
    "            gripper_frame,\n",
    "            [0, 0, 0],\n",
    "            plant.world_frame(),\n",
    "            pose.translation(),\n",
    "            pose.translation(),\n",
    "        )\n",
    "        ik.AddOrientationConstraint(\n",
    "            gripper_frame,\n",
    "            RotationMatrix(),\n",
    "            plant.world_frame(),\n",
    "            pose.rotation(),\n",
    "            0.0,\n",
    "        )\n",
    "        prog = ik.get_mutable_prog()\n",
    "        q = ik.q()\n",
    "        prog.AddQuadraticErrorCost(np.identity(len(q)), q0, q)\n",
    "        prog.SetInitialGuess(q, q0)\n",
    "        result = Solve(ik.prog())\n",
    "        if result.is_success():\n",
    "            print(\"IK success\")\n",
    "        else:\n",
    "            print(\"IK failure\")\n",
    "        clear_output(wait=True)\n",
    "\n",
    "    meshcat.DeleteAddedControls()\n",
    "    sliders = MeshcatPoseSliders(meshcat)\n",
    "    sliders.SetPose(\n",
    "        plant.EvalBodyPoseInWorld(\n",
    "            plant_context, plant.GetBodyByName(\"body\", wsg)\n",
    "        )\n",
    "    )\n",
    "    sliders.Run(visualizer, context, my_callback)\n",
    "\n",
    "    # simulator.AdvanceTo(3 if running_as_notebook else 0.1)\n",
    "    # meshcat.PublishRecording()\n",
    "\n",
    "# These are the default values that MultibodyPlant picked (on Nov 16, 2022) for\n",
    "# this system.\n",
    "run_simulation()"
   ]
  }
 ],
 "metadata": {
  "kernelspec": {
   "display_name": "Python 3",
   "language": "python",
   "name": "python3"
  },
  "language_info": {
   "codemirror_mode": {
    "name": "ipython",
    "version": 3
   },
   "file_extension": ".py",
   "mimetype": "text/x-python",
   "name": "python",
   "nbconvert_exporter": "python",
   "pygments_lexer": "ipython3",
   "version": "3.10.12"
  }
 },
 "nbformat": 4,
 "nbformat_minor": 2
}
